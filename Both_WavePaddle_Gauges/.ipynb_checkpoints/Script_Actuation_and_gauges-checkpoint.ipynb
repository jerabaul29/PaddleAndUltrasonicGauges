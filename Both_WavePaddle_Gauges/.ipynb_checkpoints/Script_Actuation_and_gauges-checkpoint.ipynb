{
 "cells": [
  {
   "cell_type": "code",
   "execution_count": null,
   "metadata": {
    "collapsed": true,
    "deletable": true,
    "editable": true
   },
   "outputs": [],
   "source": [
    "###################################################\n",
    "# code written by Jean Rabault, PhD student UiO   #\n",
    "# please contact me before sharing the code       #\n",
    "# the code comes with no guarantee                #\n",
    "# contact: jean.rblt@gmail.com                    #\n",
    "###################################################\n",
    "\n",
    "# to execute a cell, press shift+enter\n",
    "\n",
    "%reset -f"
   ]
  },
  {
   "cell_type": "code",
   "execution_count": null,
   "metadata": {
    "collapsed": true,
    "deletable": true,
    "editable": true
   },
   "outputs": [],
   "source": [
    "# imports\n",
    "import sys\n",
    "import threading\n",
    "import time\n",
    "\n",
    "path_paddle = '/home/iceisnice/Desktop/PaddleActuator_versionDUE/ComputerSide/'\n",
    "path_gauges = '/home/iceisnice/Desktop/ReadingGauges/ComputerSide/GrabberValue/'\n",
    "sys.path.append(path_paddle)\n",
    "sys.path.append(path_gauges)\n",
    "\n",
    "import serial\n",
    "import CommunicationSerialBinary2\n",
    "import numpy as np\n",
    "import tictoc\n",
    "import glob\n",
    "import time\n",
    "import SignalGeneration\n",
    "\n",
    "import Grabber\n",
    "\n",
    "import matplotlib.pyplot as plt\n",
    "%matplotlib inline\n",
    "import numpy as np"
   ]
  },
  {
   "cell_type": "code",
   "execution_count": null,
   "metadata": {
    "collapsed": false,
    "deletable": true,
    "editable": true
   },
   "outputs": [],
   "source": [
    "#########################################################################################\n",
    "# parameters for actuation and grabbing\n",
    "#########################################################################################\n",
    "\n",
    "# frequency paddle waves in Hz\n",
    "frequency_values = [1.5, 1.75, 2.0, 2.25, 2.5, 2.75, 3.0, 3.25, 3.50]\n",
    "# amplitude paddle motion in counts; must be 0 < ampltidue < 2048\n",
    "amplitude_values = [400, 600, 800, 1000, 1200, 1400, 1600]\n",
    "# duration of actuation and recording in seconds\n",
    "duration   = 180\n",
    "delay_wait = 180\n",
    "# base name\n",
    "base_name = \"slush_ice_12102016\"\n",
    "# end name\n",
    "end_name = \"_run1\"\n",
    "# path to the folder in which to save\n",
    "path_to_folder_save = 'data_gauges/'"
   ]
  },
  {
   "cell_type": "code",
   "execution_count": null,
   "metadata": {
    "collapsed": false,
    "deletable": true,
    "editable": true
   },
   "outputs": [],
   "source": [
    "#########################################################################################\n",
    "# actuation stuff\n",
    "#########################################################################################\n",
    "\n",
    "fast_actuator = True\n",
    "\n",
    "# global parameters ------------------------------------------------------------\n",
    "# scan rate in Hz\n",
    "scan_rate = 500.\n",
    "# mean position, ie 2**(12-1)\n",
    "mean_position = 2048."
   ]
  },
  {
   "cell_type": "code",
   "execution_count": null,
   "metadata": {
    "collapsed": false,
    "deletable": true,
    "editable": true
   },
   "outputs": [],
   "source": [
    "#########################################################################################\n",
    "# grabbing stuff\n",
    "#########################################################################################\n"
   ]
  },
  {
   "cell_type": "code",
   "execution_count": null,
   "metadata": {
    "collapsed": false,
    "deletable": true,
    "editable": true
   },
   "outputs": [],
   "source": [
    "for frequency in frequency_values:\n",
    "    for amplitude in amplitude_values:\n",
    "        \n",
    "        # name of the file in which to save the results\n",
    "        name_file_save = base_name + '_f' + str(int(100*frequency)) + '_a' + str(int(amplitude)) + end_name\n",
    "        \n",
    "        print \"#######################################################################################\"\n",
    "        print \"New automatic measurement\"\n",
    "        print \"Amplitude: \" + str(amplitude)\n",
    "        print \"Frequency: \" + str(frequency)\n",
    "        \n",
    "        # initialize the library -------------------------------------------------------\n",
    "        print \"Initialize library -----------------------------------------------------\"\n",
    "        communication_serial = CommunicationSerialBinary2.Paddle_Actuator()\n",
    "        usb_port = communication_serial.connect_to_board()\n",
    "\n",
    "        if fast_actuator:\n",
    "            communication_serial.set_PID_parameters(0.7,0.7,0.005,0)\n",
    "        else:\n",
    "            communication_serial.set_PID_parameters(1.8,0.7,0.005,0)\n",
    "\n",
    "        signal_class = SignalGeneration.signal_generation()\n",
    "        signal_class.generate_time_base(duration, scan_rate)\n",
    "        signal_class.generate_sinusoidal_signal(amplitude,frequency,mean_position)\n",
    "        signal = signal_class.return_signal()\n",
    "\n",
    "        communication_serial.set_signal(signal)\n",
    "\n",
    "        # CHECK THAT EVERYTHING IS READY -------------------------------------------\n",
    "        communication_serial.check_ready()\n",
    "        \n",
    "        gauge_grabber = Grabber.grabb_serial_values()\n",
    "\n",
    "        gauge_grabber.init('/dev/ttyACM1')\n",
    "        \n",
    "        def perform_actuation_and_feedback():\n",
    "            # PERFORM SETUP AND START ACTUATION ----------------------------------------\n",
    "            communication_serial.perform_setup_and_start()\n",
    "\n",
    "            # PERFORM ACTUATION --------------------------------------------------------\n",
    "            communication_serial.perform_actuation()\n",
    "\n",
    "            # POST ACTUATION CHECKS AND ANALYSIS ---------------------------------------\n",
    "\n",
    "            communication_serial.convert_feedback_data()\n",
    "            communication_serial.analyze_performed_actuation()\n",
    "    \n",
    "            #plt.show()\n",
    "        \n",
    "        def grab_and_save():\n",
    "            # grab for the time amount needed\n",
    "            gauge_grabber.grabb(duration + 10)\n",
    "            gauge_grabber.convert_grabbed_to_numpy()\n",
    "            gauge_grabber.plot_grabbed_data()\n",
    "\n",
    "            # clean data and save in python format\n",
    "            gauge_grabber.clean_numpy_dict()\n",
    "            gauge_grabber.save_cleaned_dict_numpy(path_to_folder_save+name_file_save)\n",
    "\n",
    "            # save in CSV format for easy interfacing with other programs\n",
    "            # each line is one reading\n",
    "            # each column is one gauge: gauges A, B, C, D, E\n",
    "            gauge_grabber.save_cleaned_dict_numpy_csv(path_to_folder_save+name_file_save)\n",
    "    \n",
    "            #plt.show()\n",
    "        \n",
    "        # start both threads\n",
    "        t_actuation = threading.Thread(target=perform_actuation_and_feedback)\n",
    "        t_grabbing = threading.Thread(target=grab_and_save)\n",
    "\n",
    "        t_actuation.start()\n",
    "        t_grabbing.start()\n",
    "        \n",
    "        t_actuation.join()\n",
    "        t_grabbing.join()\n",
    "        \n",
    "        print \"Threads joined, start to sleep...\"\n",
    "        \n",
    "        time.sleep(delay_wait)\n",
    "        \n",
    "print \"DONE, FINISHED!!!\""
   ]
  },
  {
   "cell_type": "code",
   "execution_count": null,
   "metadata": {
    "collapsed": true,
    "deletable": true,
    "editable": true
   },
   "outputs": [],
   "source": []
  },
  {
   "cell_type": "code",
   "execution_count": null,
   "metadata": {
    "collapsed": true,
    "deletable": true,
    "editable": true
   },
   "outputs": [],
   "source": []
  },
  {
   "cell_type": "code",
   "execution_count": null,
   "metadata": {
    "collapsed": true,
    "deletable": true,
    "editable": true
   },
   "outputs": [],
   "source": []
  }
 ],
 "metadata": {
  "kernelspec": {
   "display_name": "Python 2",
   "language": "python",
   "name": "python2"
  },
  "language_info": {
   "codemirror_mode": {
    "name": "ipython",
    "version": 2
   },
   "file_extension": ".py",
   "mimetype": "text/x-python",
   "name": "python",
   "nbconvert_exporter": "python",
   "pygments_lexer": "ipython2",
   "version": "2.7.12"
  }
 },
 "nbformat": 4,
 "nbformat_minor": 0
}
