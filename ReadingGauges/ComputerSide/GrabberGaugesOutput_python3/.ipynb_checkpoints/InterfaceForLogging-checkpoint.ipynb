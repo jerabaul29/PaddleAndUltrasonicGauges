{
 "cells": [
  {
   "cell_type": "code",
   "execution_count": 144,
   "metadata": {
    "collapsed": true,
    "deletable": true,
    "editable": true
   },
   "outputs": [],
   "source": [
    "# code written by Jean Rabault, PhD student UiO\n",
    "# please contact me before sharing the code\n",
    "# the code comes with no guarantee\n",
    "# contact: jean.rblt@gmail.coms\n",
    "\n",
    "# perform logging of the ultrasonic gauges using an Arduino board\n",
    "# to execute a cell, press shift+enter\n",
    "\n",
    "%reset -f"
   ]
  },
  {
   "cell_type": "code",
   "execution_count": 145,
   "metadata": {
    "collapsed": true,
    "deletable": true,
    "editable": true
   },
   "outputs": [],
   "source": [
    "# name of the file in which to save the results\n",
    "name_file_save = 'tests'\n",
    "# path to the folder in which to save\n",
    "path_to_folder_save = '../data_gauges/'\n",
    "\n",
    "# set the grabbing time in seconds\n",
    "time_grabbing = 200"
   ]
  },
  {
   "cell_type": "code",
   "execution_count": 146,
   "metadata": {
    "collapsed": true,
    "deletable": true,
    "editable": true
   },
   "outputs": [],
   "source": [
    "# imports\n",
    "import Grabber\n",
    "import matplotlib.pyplot as plt\n",
    "%matplotlib inline\n",
    "import numpy as np"
   ]
  },
  {
   "cell_type": "code",
   "execution_count": 147,
   "metadata": {
    "collapsed": false,
    "deletable": true,
    "editable": true
   },
   "outputs": [],
   "source": [
    "# perform the grabbing\n",
    "\n",
    "gauge_grabber = Grabber.grabb_serial_values()\n",
    "\n",
    "# select the second board as the logging board\n",
    "# for this to be true, need to connect first the paddle control board and only then the logging board\n",
    "# if you need to use another usb port, do it by hand\n",
    "#available_ports = Grabber.look_for_available_ports()\n",
    "#usb_port_name = available_ports[0]\n",
    "# you can list available ports by doing in terminal: ls /dev | grep ttyACM\n",
    "gauge_grabber.init('/dev/ttyACM1')\n",
    "\n",
    "# grab for the time amount needed\n",
    "gauge_grabber.grabb(time_grabbing)\n",
    "gauge_grabber.convert_grabbed_to_numpy()\n",
    "gauge_grabber.plot_grabbed_data()"
   ]
  },
  {
   "cell_type": "code",
   "execution_count": 148,
   "metadata": {
    "collapsed": false,
    "deletable": true,
    "editable": true
   },
   "outputs": [],
   "source": [
    "# clean data and save in python format\n",
    "gauge_grabber.clean_numpy_dict()\n",
    "gauge_grabber.save_cleaned_dict_numpy(path_to_folder_save+name_file_save)"
   ]
  },
  {
   "cell_type": "code",
   "execution_count": 149,
   "metadata": {
    "collapsed": false,
    "deletable": true,
    "editable": true
   },
   "outputs": [],
   "source": [
    "# save in CSV format for easy interfacing with other programs\n",
    "# each line is one reading\n",
    "# each column is one gauge: gauges A, B, C, D, E\n",
    "gauge_grabber.save_cleaned_dict_numpy_csv(path_to_folder_save+name_file_save)"
   ]
  }
 ],
 "metadata": {
  "kernelspec": {
   "display_name": "Python 2",
   "language": "python",
   "name": "python2"
  },
  "language_info": {
   "codemirror_mode": {
    "name": "ipython",
    "version": 2
   },
   "file_extension": ".py",
   "mimetype": "text/x-python",
   "name": "python",
   "nbconvert_exporter": "python",
   "pygments_lexer": "ipython2",
   "version": "2.7.12"
  }
 },
 "nbformat": 4,
 "nbformat_minor": 0
}
